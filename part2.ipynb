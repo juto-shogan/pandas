{
 "cells": [
  {
   "cell_type": "markdown",
   "metadata": {},
   "source": [
    "### DataFrame access from Files"
   ]
  },
  {
   "cell_type": "code",
   "execution_count": 2,
   "metadata": {},
   "outputs": [],
   "source": [
    "import pandas as pd"
   ]
  },
  {
   "cell_type": "code",
   "execution_count": 3,
   "metadata": {},
   "outputs": [],
   "source": [
    "coffee = pd.read_csv('/home/juto/Desktop/pandas/data/warmup-data/coffee.csv')\n"
   ]
  },
  {
   "cell_type": "code",
   "execution_count": 4,
   "metadata": {},
   "outputs": [],
   "source": [
    "results = pd.read_parquet('/home/juto/Desktop/pandas/data/results.parquet')"
   ]
  },
  {
   "cell_type": "code",
   "execution_count": 5,
   "metadata": {},
   "outputs": [],
   "source": [
    "olympics_data = pd.read_excel('/home/juto/Desktop/pandas/data/olympics-data.xlsx', sheet_name=\"results\" )"
   ]
  },
  {
   "cell_type": "code",
   "execution_count": 6,
   "metadata": {},
   "outputs": [],
   "source": [
    "bios = pd.read_csv('/home/juto/Desktop/pandas/data/bios.csv')"
   ]
  },
  {
   "cell_type": "code",
   "execution_count": 11,
   "metadata": {},
   "outputs": [
    {
     "data": {
      "text/plain": [
       "<bound method NDFrame.to_csv of           year    type              discipline                          event  \\\n",
       "0       1912.0  Summer                  Tennis         Singles, Men (Olympic)   \n",
       "1       1912.0  Summer                  Tennis         Doubles, Men (Olympic)   \n",
       "2       1920.0  Summer                  Tennis         Singles, Men (Olympic)   \n",
       "3       1920.0  Summer                  Tennis       Doubles, Mixed (Olympic)   \n",
       "4       1920.0  Summer                  Tennis         Doubles, Men (Olympic)   \n",
       "...        ...     ...                     ...                            ...   \n",
       "308403  2022.0  Winter                    Luge         Singles, Men (Olympic)   \n",
       "308404  2022.0  Winter  Alpine Skiing (Skiing)        Slalom, Women (Olympic)   \n",
       "308405  2022.0  Winter  Alpine Skiing (Skiing)          Team, Mixed (Olympic)   \n",
       "308406  2022.0  Winter  Alpine Skiing (Skiing)  Giant Slalom, Women (Olympic)   \n",
       "308407  2022.0  Winter                     NaN        Slalom, Women (Olympic)   \n",
       "\n",
       "                           as  athlete_id  noc             team  place   tied  \\\n",
       "0       Jean-François Blanchy           1  FRA              NaN   17.0   True   \n",
       "1       Jean-François Blanchy           1  FRA   Jean Montariol    NaN  False   \n",
       "2       Jean-François Blanchy           1  FRA              NaN   32.0   True   \n",
       "3       Jean-François Blanchy           1  FRA  Jeanne Vaussard    8.0   True   \n",
       "4       Jean-François Blanchy           1  FRA  Jacques Brugnon    4.0  False   \n",
       "...                       ...         ...  ...              ...    ...    ...   \n",
       "308403          Marián Skupek      148983  SVK              NaN   26.0  False   \n",
       "308404          Elsa Fermbäck      148984  SWE              NaN   28.0  False   \n",
       "308405          Hilma Lövblom      148985  SWE           Sweden   13.0  False   \n",
       "308406          Hilma Lövblom      148985  SWE              NaN    NaN  False   \n",
       "308407   Charlotta Säfvenberg      148986  NaN              NaN   24.0  False   \n",
       "\n",
       "       medal  \n",
       "0        NaN  \n",
       "1        NaN  \n",
       "2        NaN  \n",
       "3        NaN  \n",
       "4        NaN  \n",
       "...      ...  \n",
       "308403   NaN  \n",
       "308404   NaN  \n",
       "308405   NaN  \n",
       "308406   NaN  \n",
       "308407   NaN  \n",
       "\n",
       "[308408 rows x 11 columns]>"
      ]
     },
     "execution_count": 11,
     "metadata": {},
     "output_type": "execute_result"
    }
   ],
   "source": [
    "olympics_data.to_csv"
   ]
  },
  {
   "cell_type": "code",
   "execution_count": 8,
   "metadata": {},
   "outputs": [
    {
     "data": {
      "text/plain": [
       "RangeIndex(start=0, stop=145500, step=1)"
      ]
     },
     "execution_count": 8,
     "metadata": {},
     "output_type": "execute_result"
    }
   ],
   "source": [
    "bios.index"
   ]
  },
  {
   "cell_type": "code",
   "execution_count": 9,
   "metadata": {},
   "outputs": [
    {
     "data": {
      "text/plain": [
       "Index(['Day', 'Coffee Type', 'Units Sold'], dtype='object')"
      ]
     },
     "execution_count": 9,
     "metadata": {},
     "output_type": "execute_result"
    }
   ],
   "source": [
    "coffee.columns"
   ]
  },
  {
   "cell_type": "code",
   "execution_count": 10,
   "metadata": {},
   "outputs": [
    {
     "data": {
      "text/plain": [
       "array(['Espresso', 'Latte'], dtype=object)"
      ]
     },
     "execution_count": 10,
     "metadata": {},
     "output_type": "execute_result"
    }
   ],
   "source": [
    "coffee['Coffee Type'].unique()"
   ]
  }
 ],
 "metadata": {
  "kernelspec": {
   "display_name": "globalEnv",
   "language": "python",
   "name": "python3"
  },
  "language_info": {
   "codemirror_mode": {
    "name": "ipython",
    "version": 3
   },
   "file_extension": ".py",
   "mimetype": "text/x-python",
   "name": "python",
   "nbconvert_exporter": "python",
   "pygments_lexer": "ipython3",
   "version": "3.11.2"
  }
 },
 "nbformat": 4,
 "nbformat_minor": 2
}
