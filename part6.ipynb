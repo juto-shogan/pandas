{
 "cells": [
  {
   "cell_type": "markdown",
   "metadata": {},
   "source": [
    "#### merging & concatenating data"
   ]
  },
  {
   "cell_type": "code",
   "execution_count": null,
   "metadata": {},
   "outputs": [],
   "source": [
    "import pandas as pd\n",
    "\n",
    "nocs = pd.read_csv('/home/juto/Desktop/pandas/reference/archive/noc_regions.csv')\n",
    "bios = pd.read_csv('/home/juto/Desktop/pandas/data/bios.csv')"
   ]
  },
  {
   "cell_type": "code",
   "execution_count": null,
   "metadata": {},
   "outputs": [],
   "source": [
    "nocs.head()"
   ]
  },
  {
   "cell_type": "code",
   "execution_count": null,
   "metadata": {},
   "outputs": [],
   "source": [
    "bios.head()"
   ]
  },
  {
   "cell_type": "code",
   "execution_count": null,
   "metadata": {},
   "outputs": [],
   "source": [
    "nocs['notes'].unique()"
   ]
  },
  {
   "cell_type": "markdown",
   "metadata": {},
   "source": [
    "![0]\n",
    "\n",
    "[0]: reference/mergeLogic.png\n",
    "\n",
    "#### This is for the merge arguments below"
   ]
  },
  {
   "cell_type": "code",
   "execution_count": null,
   "metadata": {},
   "outputs": [],
   "source": [
    "bios_new = pd.merge(bios, nocs, left_on='born_country', right_on='NOC', how='inner')"
   ]
  },
  {
   "cell_type": "code",
   "execution_count": null,
   "metadata": {},
   "outputs": [],
   "source": [
    "bios_new.head()"
   ]
  },
  {
   "cell_type": "code",
   "execution_count": null,
   "metadata": {},
   "outputs": [],
   "source": [
    "bios_new.rename(columns={'region': 'born_country_full'}, inplace=True)"
   ]
  },
  {
   "cell_type": "code",
   "execution_count": null,
   "metadata": {},
   "outputs": [],
   "source": [
    "bios_new.head(20)"
   ]
  },
  {
   "cell_type": "code",
   "execution_count": null,
   "metadata": {},
   "outputs": [],
   "source": [
    "\"\"\"\n",
    "both of these will get u speicy rows wih that u want to find\n",
    "memorize them especially 'loc' and iloc\n",
    "query i good too but not better than 'loc' \n",
    "\"\"\"\n",
    "bios_new.query('born_country_full == \"Nigeria\"')\n",
    "#bios_new = bios_new.loc[(bios_new['born_country_full'] == \"Nigeria\")]\n",
    "#bios_new\n"
   ]
  },
  {
   "cell_type": "code",
   "execution_count": null,
   "metadata": {},
   "outputs": [],
   "source": [
    "\"\"\"\n",
    "to compare the columns you just merged \n",
    "\n",
    "[['NOC_x', 'born_country_full']]<--- adding this to it seperates the exact columns we want to see\n",
    "                                                                         |\n",
    "                                                                         |\n",
    "                                                                         |\n",
    "                                                                    this below\n",
    "                                                                         |\n",
    "                                                                         V\n",
    "so we dont less and more defined dataset\n",
    "\"\"\"\n",
    "\n",
    "bios_new[bios_new['NOC_x'] != bios_new['born_country_full']][['NOC_x', 'born_country_full']]"
   ]
  },
  {
   "cell_type": "code",
   "execution_count": null,
   "metadata": {},
   "outputs": [],
   "source": [
    "\"\"\"\n",
    "this helps to single out a string you want\n",
    "\"\"\"\n",
    "usa = bios_new[bios_new['born_country'] == 'USA'].copy()\n",
    "usa[['NOC_y', 'born_country_full','name']]"
   ]
  },
  {
   "cell_type": "code",
   "execution_count": null,
   "metadata": {},
   "outputs": [],
   "source": [
    "\"\"\"\n",
    "this is to single out the string called \"keith\"\n",
    "\"\"\"\n",
    "usa[usa['name'].str.contains(\"keith|fred\", case=False)]"
   ]
  },
  {
   "cell_type": "code",
   "execution_count": null,
   "metadata": {},
   "outputs": [],
   "source": [
    "bios_new.head()"
   ]
  },
  {
   "cell_type": "code",
   "execution_count": null,
   "metadata": {},
   "outputs": [],
   "source": [
    "\"\"\"\n",
    "this is to single out any nigerian born in lagos\n",
    "\"\"\"\n",
    "bios_new.loc[(bios_new['NOC_x'] == \"Nigeria\") & (bios_new['born_city'] == \"Lagos\")]"
   ]
  },
  {
   "cell_type": "code",
   "execution_count": null,
   "metadata": {},
   "outputs": [],
   "source": [
    "nigeria = bios_new[bios_new['born_country'] == 'NGR'].copy()\n",
    "nigeria['born_city'].unique()"
   ]
  },
  {
   "cell_type": "code",
   "execution_count": null,
   "metadata": {},
   "outputs": [],
   "source": [
    "gbr = bios[bios['born_country']=='GBR'].copy()"
   ]
  },
  {
   "cell_type": "code",
   "execution_count": null,
   "metadata": {},
   "outputs": [],
   "source": [
    "\"\"\"\n",
    "this is joining the datasets together\n",
    "\"\"\"\n",
    "new_df = pd.concat([usa, gbr])"
   ]
  },
  {
   "cell_type": "code",
   "execution_count": null,
   "metadata": {},
   "outputs": [],
   "source": [
    "results = pd.read_parquet('/home/juto/Desktop/pandas/data/results.parquet')"
   ]
  },
  {
   "cell_type": "code",
   "execution_count": null,
   "metadata": {},
   "outputs": [],
   "source": [
    "results.info()"
   ]
  },
  {
   "cell_type": "code",
   "execution_count": null,
   "metadata": {},
   "outputs": [],
   "source": [
    "results.head(30)"
   ]
  },
  {
   "cell_type": "code",
   "execution_count": null,
   "metadata": {},
   "outputs": [],
   "source": [
    "combined_df = pd.merge(results, bios, on='athlete_id', how='left')"
   ]
  },
  {
   "cell_type": "code",
   "execution_count": null,
   "metadata": {},
   "outputs": [],
   "source": [
    "combined_df.tail()"
   ]
  },
  {
   "cell_type": "code",
   "execution_count": 99,
   "metadata": {},
   "outputs": [
    {
     "name": "stdout",
     "output_type": "stream",
     "text": [
      "<class 'pandas.core.frame.DataFrame'>\n",
      "RangeIndex: 308408 entries, 0 to 308407\n",
      "Data columns (total 20 columns):\n",
      " #   Column        Non-Null Count   Dtype  \n",
      "---  ------        --------------   -----  \n",
      " 0   year          305807 non-null  float64\n",
      " 1   type          305807 non-null  object \n",
      " 2   discipline    308407 non-null  object \n",
      " 3   event         308408 non-null  object \n",
      " 4   as            308408 non-null  object \n",
      " 5   athlete_id    308408 non-null  int64  \n",
      " 6   noc           308407 non-null  object \n",
      " 7   team          121714 non-null  object \n",
      " 8   place         283193 non-null  float64\n",
      " 9   tied          308408 non-null  bool   \n",
      " 10  medal         44139 non-null   object \n",
      " 11  name          308408 non-null  object \n",
      " 12  born_date     305692 non-null  object \n",
      " 13  born_city     246890 non-null  object \n",
      " 14  born_region   246890 non-null  object \n",
      " 15  born_country  246890 non-null  object \n",
      " 16  NOC           308408 non-null  object \n",
      " 17  height_cm     236910 non-null  float64\n",
      " 18  weight_kg     227290 non-null  float64\n",
      " 19  died_date     73521 non-null   object \n",
      "dtypes: bool(1), float64(4), int64(1), object(14)\n",
      "memory usage: 45.0+ MB\n"
     ]
    }
   ],
   "source": [
    "combined_df.info() "
   ]
  }
 ],
 "metadata": {
  "kernelspec": {
   "display_name": ".venv",
   "language": "python",
   "name": "python3"
  },
  "language_info": {
   "codemirror_mode": {
    "name": "ipython",
    "version": 3
   },
   "file_extension": ".py",
   "mimetype": "text/x-python",
   "name": "python",
   "nbconvert_exporter": "python",
   "pygments_lexer": "ipython3",
   "version": "3.11.2"
  }
 },
 "nbformat": 4,
 "nbformat_minor": 2
}
